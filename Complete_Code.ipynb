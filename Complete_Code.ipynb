{
 "cells": [
  {
   "cell_type": "code",
   "execution_count": 13,
   "metadata": {},
   "outputs": [],
   "source": [
    "import numpy as np\n",
    "import pandas as pd\n",
    "import matplotlib.pyplot as plt\n",
    "import warnings\n",
    "warnings.filterwarnings('ignore')"
   ]
  },
  {
   "cell_type": "code",
   "execution_count": 14,
   "metadata": {},
   "outputs": [
    {
     "data": {
      "text/plain": [
       "Index(['Timestamp', 'How old are you?', 'Industry', 'Job title',\n",
       "       'Additional context on job title', 'Annual salary',\n",
       "       'Other monetary comp', 'Currency', 'Currency - other',\n",
       "       'Additional context on income', 'Country', 'State', 'City',\n",
       "       'Overall years of professional experience',\n",
       "       'Years of experience in field', 'Highest level of education completed',\n",
       "       'Gender', 'Race'],\n",
       "      dtype='object')"
      ]
     },
     "execution_count": 14,
     "metadata": {},
     "output_type": "execute_result"
    }
   ],
   "source": [
    "df = pd.read_csv('dataset/data.csv')\n",
    "df.columns"
   ]
  },
  {
   "cell_type": "code",
   "execution_count": 15,
   "metadata": {},
   "outputs": [],
   "source": [
    "class Clean:\n",
    "    \n",
    "    def __init__(self,data):\n",
    "        self.dataframe = data\n",
    "        \n",
    "    def do_work(self):\n",
    "\n",
    "        self.dataframe = self.dataframe.fillna(-99)\n",
    "    \n",
    "        self.dataframe['Timestamp'] = pd.to_datetime(self.dataframe['Timestamp'], errors='coerce')\n",
    "\n",
    "        self.dataframe = self.dataframe.dropna(subset=['Timestamp'])\n",
    "        \n",
    "        self.dataframe.loc[self.dataframe['Annual salary'].str.contains(',') == True, 'Annual salary'] = self.dataframe['Annual salary'].str.split(',').str[0]+''+self.dataframe['Annual salary'].str.split(',').str[1]\n",
    "\n",
    "       \n",
    "        remove_digits = ['Additional context on job title', 'City', 'Industry', 'Additional context on job title']\n",
    "\n",
    "        for i in range(len(remove_digits)):\n",
    "\n",
    "            self.dataframe[remove_digits[i]] = self.dataframe[remove_digits[i]].str.replace('\\d+', '')\n",
    "\n",
    "        \n",
    "        convert_to_str = ['Currency - other', 'Additional context on job title', 'Additional context on income',\n",
    "              'Country', 'State', 'City', 'Overall years of professional experience', 'Years of experience in field',\n",
    "              'Highest level of education completed', 'Gender', 'Race']\n",
    "\n",
    "        for i in range(len(convert_to_str)):\n",
    "    \n",
    "            self.dataframe[convert_to_str[i]] = self.dataframe[convert_to_str[i]].astype(str)\n",
    "        \n",
    "        self.dataframe['Other monetary comp'] = self.dataframe['Other monetary comp'].astype(int)\n",
    "        \n",
    "        self.dataframe['Currency - other'] = self.dataframe['Currency - other'].replace({'nan':-99})\n",
    "\n",
    "        self.dataframe['Currency - other'] = self.dataframe['Currency - other'].replace({'':-99, '0':-99, 'nan': -99, \"\":-99})\n",
    "\n",
    "        self.dataframe['Industry'] = self.dataframe['Industry'].replace({'':-99})\n",
    "\n",
    "        self.dataframe['Additional context on job title'] = self.dataframe['Additional context on job title'].replace({'':-99,\"\":-99})\n",
    "        \n",
    "        self.dataframe['Additional context on job title'] = self.dataframe['Additional context on job title'].replace({'nan':-99})\n",
    "        \n",
    "        self.dataframe = self.dataframe.fillna(-99)\n",
    "        \n",
    "        return self.dataframe"
   ]
  },
  {
   "cell_type": "code",
   "execution_count": 16,
   "metadata": {},
   "outputs": [
    {
     "data": {
      "text/html": [
       "<div>\n",
       "<style scoped>\n",
       "    .dataframe tbody tr th:only-of-type {\n",
       "        vertical-align: middle;\n",
       "    }\n",
       "\n",
       "    .dataframe tbody tr th {\n",
       "        vertical-align: top;\n",
       "    }\n",
       "\n",
       "    .dataframe thead th {\n",
       "        text-align: right;\n",
       "    }\n",
       "</style>\n",
       "<table border=\"1\" class=\"dataframe\">\n",
       "  <thead>\n",
       "    <tr style=\"text-align: right;\">\n",
       "      <th></th>\n",
       "      <th>Timestamp</th>\n",
       "      <th>How old are you?</th>\n",
       "      <th>Industry</th>\n",
       "      <th>Job title</th>\n",
       "      <th>Additional context on job title</th>\n",
       "      <th>Annual salary</th>\n",
       "      <th>Other monetary comp</th>\n",
       "      <th>Currency</th>\n",
       "      <th>Currency - other</th>\n",
       "      <th>Additional context on income</th>\n",
       "      <th>Country</th>\n",
       "      <th>State</th>\n",
       "      <th>City</th>\n",
       "      <th>Overall years of professional experience</th>\n",
       "      <th>Years of experience in field</th>\n",
       "      <th>Highest level of education completed</th>\n",
       "      <th>Gender</th>\n",
       "      <th>Race</th>\n",
       "    </tr>\n",
       "  </thead>\n",
       "  <tbody>\n",
       "    <tr>\n",
       "      <th>0</th>\n",
       "      <td>2021-04-27 11:02:10</td>\n",
       "      <td>25-34</td>\n",
       "      <td>Education (Higher Education)</td>\n",
       "      <td>Research and Instruction Librarian</td>\n",
       "      <td>-99</td>\n",
       "      <td>55000</td>\n",
       "      <td>0</td>\n",
       "      <td>USD</td>\n",
       "      <td>-99</td>\n",
       "      <td>-99</td>\n",
       "      <td>United States</td>\n",
       "      <td>Massachusetts</td>\n",
       "      <td>Boston</td>\n",
       "      <td>5-7 years</td>\n",
       "      <td>5-7 years</td>\n",
       "      <td>Master's degree</td>\n",
       "      <td>Woman</td>\n",
       "      <td>White</td>\n",
       "    </tr>\n",
       "    <tr>\n",
       "      <th>1</th>\n",
       "      <td>2021-04-27 11:02:22</td>\n",
       "      <td>25-34</td>\n",
       "      <td>Computing or Tech</td>\n",
       "      <td>Change &amp; Internal Communications Manager</td>\n",
       "      <td>-99</td>\n",
       "      <td>54600</td>\n",
       "      <td>4000</td>\n",
       "      <td>GBP</td>\n",
       "      <td>-99</td>\n",
       "      <td>-99</td>\n",
       "      <td>United Kingdom</td>\n",
       "      <td>-99</td>\n",
       "      <td>Cambridge</td>\n",
       "      <td>8 - 10 years</td>\n",
       "      <td>5-7 years</td>\n",
       "      <td>College degree</td>\n",
       "      <td>Non-binary</td>\n",
       "      <td>White</td>\n",
       "    </tr>\n",
       "  </tbody>\n",
       "</table>\n",
       "</div>"
      ],
      "text/plain": [
       "            Timestamp How old are you?                      Industry  \\\n",
       "0 2021-04-27 11:02:10            25-34  Education (Higher Education)   \n",
       "1 2021-04-27 11:02:22            25-34             Computing or Tech   \n",
       "\n",
       "                                  Job title Additional context on job title  \\\n",
       "0        Research and Instruction Librarian                             -99   \n",
       "1  Change & Internal Communications Manager                             -99   \n",
       "\n",
       "  Annual salary  Other monetary comp Currency Currency - other  \\\n",
       "0         55000                    0      USD              -99   \n",
       "1         54600                 4000      GBP              -99   \n",
       "\n",
       "  Additional context on income         Country          State       City  \\\n",
       "0                          -99   United States  Massachusetts     Boston   \n",
       "1                          -99  United Kingdom            -99  Cambridge   \n",
       "\n",
       "  Overall years of professional experience Years of experience in field  \\\n",
       "0                                5-7 years                    5-7 years   \n",
       "1                             8 - 10 years                    5-7 years   \n",
       "\n",
       "  Highest level of education completed      Gender   Race  \n",
       "0                      Master's degree       Woman  White  \n",
       "1                       College degree  Non-binary  White  "
      ]
     },
     "execution_count": 16,
     "metadata": {},
     "output_type": "execute_result"
    }
   ],
   "source": [
    "cleaned_df = Clean(df).do_work()\n",
    "cleaned_df.head(2)"
   ]
  },
  {
   "cell_type": "code",
   "execution_count": 17,
   "metadata": {},
   "outputs": [],
   "source": [
    "class Labelling:\n",
    "    \n",
    "    def __init__(self,data):\n",
    "        self.dataframe = data\n",
    "    \n",
    "    def model(self):\n",
    "        \n",
    "        from sklearn.preprocessing import LabelEncoder \n",
    "        import joblib\n",
    "    \n",
    "        col_1 = LabelEncoder()\n",
    "        col_2 = LabelEncoder()\n",
    "        col_3 = LabelEncoder()\n",
    "        col_4 = LabelEncoder()\n",
    "        col_5 = LabelEncoder()\n",
    "        col_6 = LabelEncoder()\n",
    "        col_7 = LabelEncoder()\n",
    "        col_8 = LabelEncoder()\n",
    "        col_9 = LabelEncoder()\n",
    "        col_10 = LabelEncoder()\n",
    "        col_11 = LabelEncoder()\n",
    "        col_12 = LabelEncoder()\n",
    "        col_13 = LabelEncoder()\n",
    "        col_14 = LabelEncoder()\n",
    "\n",
    "        convert_to_str = ['Other monetary comp', 'Industry', 'Currency - other', 'Additional context on job title', 'Additional context on income',\n",
    "                          'Country', 'State', 'City', 'Overall years of professional experience', 'Years of experience in field',\n",
    "                          'Highest level of education completed', 'Gender', 'Race']\n",
    "\n",
    "        for i in range(len(convert_to_str)):\n",
    "    \n",
    "            self.dataframe[convert_to_str[i]] = self.dataframe[convert_to_str[i]].astype(str)\n",
    "\n",
    "        labels = [col_1,col_2,col_3,col_4,col_5,col_6,col_7,col_8,col_9,col_10,col_11,col_12,col_13,col_14]\n",
    "\n",
    "        le = ['How old are you?', 'Industry', 'Job title', 'Additional context on job title', 'Currency', \n",
    "              'Currency - other', 'Additional context on income', 'Country', 'State', 'City',\n",
    "              'Overall years of professional experience','Years of experience in field',\n",
    "              'Highest level of education completed', 'Race']\n",
    "\n",
    "        le_name_mapping = dict(zip(labels, le))\n",
    "\n",
    "        for i in range(len(le_name_mapping)):\n",
    "\n",
    "            self.dataframe[list(le_name_mapping.values())[i]] = list(le_name_mapping.keys())[i].fit_transform(self.dataframe[list(le_name_mapping.values())[i]])\n",
    "\n",
    "        for i in range(len(labels)):\n",
    "\n",
    "            label_i = 'labels'+'/'+'Label_'+str(i)+'.sav'\n",
    "            joblib.dump(labels[i], label_i)\n",
    "\n",
    "        #labelling dependent variable\n",
    "        main_label = LabelEncoder()\n",
    "        self.dataframe['Gender'] = main_label.fit_transform(self.dataframe['Gender'])\n",
    "        \n",
    "        label_i = 'labels'+'/'+'Label_main.sav'\n",
    "        joblib.dump(main_label, label_i)\n",
    "        \n",
    "        \n",
    "        self.dataframe = self.dataframe.drop('Timestamp', axis=1)\n",
    "\n",
    "        self.dataframe = self.dataframe.astype(int)\n",
    "        \n",
    "        return self.dataframe"
   ]
  },
  {
   "cell_type": "code",
   "execution_count": 18,
   "metadata": {},
   "outputs": [
    {
     "data": {
      "text/html": [
       "<div>\n",
       "<style scoped>\n",
       "    .dataframe tbody tr th:only-of-type {\n",
       "        vertical-align: middle;\n",
       "    }\n",
       "\n",
       "    .dataframe tbody tr th {\n",
       "        vertical-align: top;\n",
       "    }\n",
       "\n",
       "    .dataframe thead th {\n",
       "        text-align: right;\n",
       "    }\n",
       "</style>\n",
       "<table border=\"1\" class=\"dataframe\">\n",
       "  <thead>\n",
       "    <tr style=\"text-align: right;\">\n",
       "      <th></th>\n",
       "      <th>How old are you?</th>\n",
       "      <th>Industry</th>\n",
       "      <th>Job title</th>\n",
       "      <th>Additional context on job title</th>\n",
       "      <th>Annual salary</th>\n",
       "      <th>Other monetary comp</th>\n",
       "      <th>Currency</th>\n",
       "      <th>Currency - other</th>\n",
       "      <th>Additional context on income</th>\n",
       "      <th>Country</th>\n",
       "      <th>State</th>\n",
       "      <th>City</th>\n",
       "      <th>Overall years of professional experience</th>\n",
       "      <th>Years of experience in field</th>\n",
       "      <th>Highest level of education completed</th>\n",
       "      <th>Gender</th>\n",
       "      <th>Race</th>\n",
       "    </tr>\n",
       "  </thead>\n",
       "  <tbody>\n",
       "    <tr>\n",
       "      <th>0</th>\n",
       "      <td>1</td>\n",
       "      <td>303</td>\n",
       "      <td>9478</td>\n",
       "      <td>142</td>\n",
       "      <td>55000</td>\n",
       "      <td>0</td>\n",
       "      <td>9</td>\n",
       "      <td>2</td>\n",
       "      <td>58</td>\n",
       "      <td>261</td>\n",
       "      <td>75</td>\n",
       "      <td>397</td>\n",
       "      <td>6</td>\n",
       "      <td>6</td>\n",
       "      <td>3</td>\n",
       "      <td>5</td>\n",
       "      <td>46</td>\n",
       "    </tr>\n",
       "    <tr>\n",
       "      <th>1</th>\n",
       "      <td>1</td>\n",
       "      <td>206</td>\n",
       "      <td>1871</td>\n",
       "      <td>142</td>\n",
       "      <td>54600</td>\n",
       "      <td>4000</td>\n",
       "      <td>4</td>\n",
       "      <td>2</td>\n",
       "      <td>58</td>\n",
       "      <td>245</td>\n",
       "      <td>0</td>\n",
       "      <td>552</td>\n",
       "      <td>7</td>\n",
       "      <td>6</td>\n",
       "      <td>1</td>\n",
       "      <td>2</td>\n",
       "      <td>46</td>\n",
       "    </tr>\n",
       "  </tbody>\n",
       "</table>\n",
       "</div>"
      ],
      "text/plain": [
       "   How old are you?  Industry  Job title  Additional context on job title  \\\n",
       "0                 1       303       9478                              142   \n",
       "1                 1       206       1871                              142   \n",
       "\n",
       "   Annual salary  Other monetary comp  Currency  Currency - other  \\\n",
       "0          55000                    0         9                 2   \n",
       "1          54600                 4000         4                 2   \n",
       "\n",
       "   Additional context on income  Country  State  City  \\\n",
       "0                            58      261     75   397   \n",
       "1                            58      245      0   552   \n",
       "\n",
       "   Overall years of professional experience  Years of experience in field  \\\n",
       "0                                         6                             6   \n",
       "1                                         7                             6   \n",
       "\n",
       "   Highest level of education completed  Gender  Race  \n",
       "0                                     3       5    46  \n",
       "1                                     1       2    46  "
      ]
     },
     "execution_count": 18,
     "metadata": {},
     "output_type": "execute_result"
    }
   ],
   "source": [
    "labelled_df = Labelling(cleaned_df).model()\n",
    "labelled_df.head(2)"
   ]
  },
  {
   "cell_type": "code",
   "execution_count": 19,
   "metadata": {},
   "outputs": [],
   "source": [
    "#DATA PREPARATION\n",
    "\n",
    "class Data_preparation:\n",
    "    \n",
    "    def __init__(self,data):\n",
    "        self.dataframe = data\n",
    "    \n",
    "    def split(self):\n",
    "\n",
    "        from imblearn.over_sampling import SMOTE\n",
    "        from imblearn.under_sampling import RandomUnderSampler\n",
    "        from sklearn.model_selection import train_test_split\n",
    "        from sklearn.utils import shuffle\n",
    "        from sklearn.preprocessing import StandardScaler\n",
    "        from sklearn.metrics import confusion_matrix\n",
    "        \n",
    "        X = np.array(self.dataframe.drop(['Gender'], axis=1))\n",
    "        y = np.array(self.dataframe['Gender'])\n",
    "\n",
    "        under = RandomUnderSampler(sampling_strategy = {0: 100, 1: 70, 2: 90, 3: 40})\n",
    "        X,y = under.fit_resample(X, y)\n",
    "\n",
    "        X_train, X_test, y_train, y_test = train_test_split(X, y, test_size=0.3, random_state=0)\n",
    "\n",
    "        scaler = StandardScaler()\n",
    "        X_train = scaler.fit_transform(X_train)\n",
    "        X_test = scaler.transform(X_test)\n",
    "        \n",
    "        return X_train, X_test, y_train, y_test"
   ]
  },
  {
   "cell_type": "code",
   "execution_count": 20,
   "metadata": {},
   "outputs": [],
   "source": [
    "X_train, X_test, y_train, y_test = Data_preparation(labelled_df).split()"
   ]
  },
  {
   "cell_type": "code",
   "execution_count": 21,
   "metadata": {},
   "outputs": [
    {
     "name": "stdout",
     "output_type": "stream",
     "text": [
      "X - Training set has 14712 samples.\n",
      "X - Testing set has 6306 samples. \n",
      "\n",
      "y - Training set has 14712 samples.\n",
      "y - Testing set has 6306 samples.\n"
     ]
    }
   ],
   "source": [
    "print(\"X - Training set has {} samples.\".format(X_train.shape[0]))\n",
    "print(\"X - Testing set has {} samples.\".format(X_test.shape[0]),'\\n')\n",
    "print(\"y - Training set has {} samples.\".format(y_train.shape[0]))\n",
    "print(\"y - Testing set has {} samples.\".format(y_test.shape[0]))"
   ]
  },
  {
   "cell_type": "code",
   "execution_count": 22,
   "metadata": {},
   "outputs": [],
   "source": [
    "class Initial_models:\n",
    "    \n",
    "    def __init__(self, X_train, X_test, y_train, y_test):\n",
    "        self.X_train = X_train\n",
    "        self.X_test = X_test\n",
    "        self.y_train = y_train\n",
    "        self.y_test = y_test\n",
    "    \n",
    "    def models(self):\n",
    "        \n",
    "        from sklearn import model_selection\n",
    "        from sklearn.linear_model import LogisticRegression\n",
    "        from sklearn.tree import DecisionTreeClassifier\n",
    "        from sklearn.neighbors import KNeighborsClassifier\n",
    "        from sklearn.neural_network import MLPClassifier\n",
    "        from sklearn.discriminant_analysis import LinearDiscriminantAnalysis\n",
    "        from sklearn.naive_bayes import GaussianNB\n",
    "        from sklearn.svm import SVC\n",
    "        from sklearn.ensemble import RandomForestClassifier\n",
    "        \n",
    "        seed = 7\n",
    "        models = []\n",
    "        models.append(('LRM', LogisticRegression()))\n",
    "        models.append(('LDA', LinearDiscriminantAnalysis()))\n",
    "        models.append(('KNN', KNeighborsClassifier()))\n",
    "        models.append(('DTC', DecisionTreeClassifier()))\n",
    "        models.append(('GNB', GaussianNB()))\n",
    "        models.append(('SVM', SVC()))\n",
    "        models.append(('RFC', RandomForestClassifier()))\n",
    "        models.append(('NNC', MLPClassifier()))\n",
    "        \n",
    "        results = []\n",
    "        names = []\n",
    "\n",
    "        scoring = 'accuracy'\n",
    "\n",
    "        import warnings\n",
    "        warnings.filterwarnings(\"ignore\")\n",
    "\n",
    "        for name, model in models:\n",
    "            kfold = model_selection.KFold(n_splits=10)\n",
    "            cv_results = model_selection.cross_val_score(model, self.X_train, self.y_train, cv=kfold, scoring=scoring)\n",
    "            results.append(cv_results)\n",
    "            names.append(name)\n",
    "            msg = \"%s:     %f      (%f)\" % (name, cv_results.mean(), cv_results.std())\n",
    "            print(msg)"
   ]
  },
  {
   "cell_type": "code",
   "execution_count": 23,
   "metadata": {},
   "outputs": [
    {
     "name": "stdout",
     "output_type": "stream",
     "text": [
      "LRM:     0.985046      (0.003480)\n",
      "LDA:     0.983007      (0.003372)\n",
      "KNN:     0.985114      (0.003295)\n",
      "DTC:     0.967442      (0.005840)\n",
      "GNB:     0.013799      (0.003700)\n",
      "SVM:     0.985250      (0.003204)\n",
      "RFC:     0.984910      (0.003450)\n",
      "NNC:     0.984638      (0.003163)\n"
     ]
    }
   ],
   "source": [
    "Initial_models(X_train, X_test, y_train, y_test).models()"
   ]
  },
  {
   "cell_type": "code",
   "execution_count": 24,
   "metadata": {},
   "outputs": [],
   "source": [
    "class Random_forest:\n",
    "    \n",
    "    def __init__(self, X_train, X_test, y_train, y_test):\n",
    "        self.X_train = X_train\n",
    "        self.X_test = X_test\n",
    "        self.y_train = y_train\n",
    "        self.y_test = y_test\n",
    "    \n",
    "    def model(self):\n",
    "        from sklearn.ensemble import RandomForestClassifier\n",
    "\n",
    "        self.clf = RandomForestClassifier(n_estimators=1000, criterion='entropy', random_state=42)\n",
    "\n",
    "        self.clf.fit(self.X_train, self.y_train)\n",
    "\n",
    "        y_pred = self.clf.predict(self.X_test)\n",
    "\n",
    "        from sklearn.metrics import accuracy_score\n",
    "        from sklearn.metrics import classification_report\n",
    "        from sklearn.metrics import confusion_matrix\n",
    "        from sklearn.metrics import roc_auc_score\n",
    "\n",
    "        # Evaluate accuracy\n",
    "        print(confusion_matrix(self.y_test, y_pred))\n",
    "        print(classification_report(self.y_test, y_pred))\n",
    "        \n",
    "        return self.clf"
   ]
  },
  {
   "cell_type": "code",
   "execution_count": 25,
   "metadata": {},
   "outputs": [
    {
     "name": "stdout",
     "output_type": "stream",
     "text": [
      "[[   0    0    0    0   26]\n",
      " [   0    0    0    0   21]\n",
      " [   0    0    0    0   25]\n",
      " [   0    0    0    0   12]\n",
      " [   0    0    0    0 6222]]\n",
      "              precision    recall  f1-score   support\n",
      "\n",
      "           0       0.00      0.00      0.00        26\n",
      "           1       0.00      0.00      0.00        21\n",
      "           2       0.00      0.00      0.00        25\n",
      "           3       0.00      0.00      0.00        12\n",
      "           5       0.99      1.00      0.99      6222\n",
      "\n",
      "    accuracy                           0.99      6306\n",
      "   macro avg       0.20      0.20      0.20      6306\n",
      "weighted avg       0.97      0.99      0.98      6306\n",
      "\n"
     ]
    },
    {
     "data": {
      "text/plain": [
       "RandomForestClassifier(criterion='entropy', n_estimators=1000, random_state=42)"
      ]
     },
     "execution_count": 25,
     "metadata": {},
     "output_type": "execute_result"
    }
   ],
   "source": [
    "Random_forest(X_train, X_test, y_train, y_test).model()"
   ]
  },
  {
   "cell_type": "code",
   "execution_count": 26,
   "metadata": {},
   "outputs": [],
   "source": [
    "class StackingClassifier:\n",
    "    \n",
    "    def __init__(self, X_train, X_test, y_train, y_test):\n",
    "        self.X_train = X_train\n",
    "        self.X_test = X_test\n",
    "        self.y_train = y_train\n",
    "        self.y_test = y_test\n",
    "    \n",
    "    def model(self):\n",
    "        from sklearn import model_selection\n",
    "        from sklearn.linear_model import LogisticRegression\n",
    "        from sklearn.tree import DecisionTreeClassifier\n",
    "        from sklearn.neighbors import KNeighborsClassifier\n",
    "        from sklearn.neural_network import MLPClassifier\n",
    "        from sklearn.discriminant_analysis import LinearDiscriminantAnalysis\n",
    "        from sklearn.naive_bayes import GaussianNB\n",
    "        from sklearn.svm import SVC\n",
    "        from sklearn.ensemble import RandomForestClassifier\n",
    "        from sklearn.ensemble import StackingClassifier\n",
    "\n",
    "        estimators = [\n",
    "                ('RFC', RandomForestClassifier(random_state=42)),\n",
    "                ('SVM', LogisticRegression()),\n",
    "                ('DTC', DecisionTreeClassifier()),\n",
    "                ('KNN', KNeighborsClassifier()),\n",
    "                ('NNC', MLPClassifier())\n",
    "        ]\n",
    "\n",
    "        self.clf = StackingClassifier(estimators=estimators, final_estimator=SVC())\n",
    "\n",
    "        self.clf.fit(self.X_train, self.y_train).score(self.X_test, self.y_test)\n",
    "\n",
    "        y_pred = self.clf.predict(self.X_test)\n",
    "\n",
    "        from sklearn.metrics import accuracy_score\n",
    "        from sklearn.metrics import classification_report\n",
    "        from sklearn.metrics import confusion_matrix\n",
    "        from sklearn.metrics import roc_auc_score\n",
    "\n",
    "        # Evaluate accuracy\n",
    "        print(confusion_matrix(self.y_test, y_pred))\n",
    "        print(classification_report(self.y_test, y_pred))\n",
    "        \n",
    "        return self.clf"
   ]
  },
  {
   "cell_type": "code",
   "execution_count": 27,
   "metadata": {},
   "outputs": [
    {
     "name": "stdout",
     "output_type": "stream",
     "text": [
      "[[   0    0    0    0   26]\n",
      " [   0    0    0    0   21]\n",
      " [   0    0    0    0   25]\n",
      " [   0    0    0    0   12]\n",
      " [   0    0    0    0 6222]]\n",
      "              precision    recall  f1-score   support\n",
      "\n",
      "           0       0.00      0.00      0.00        26\n",
      "           1       0.00      0.00      0.00        21\n",
      "           2       0.00      0.00      0.00        25\n",
      "           3       0.00      0.00      0.00        12\n",
      "           5       0.99      1.00      0.99      6222\n",
      "\n",
      "    accuracy                           0.99      6306\n",
      "   macro avg       0.20      0.20      0.20      6306\n",
      "weighted avg       0.97      0.99      0.98      6306\n",
      "\n"
     ]
    },
    {
     "data": {
      "text/plain": [
       "StackingClassifier(estimators=[('RFC', RandomForestClassifier(random_state=42)),\n",
       "                               ('SVM', LogisticRegression()),\n",
       "                               ('DTC', DecisionTreeClassifier()),\n",
       "                               ('KNN', KNeighborsClassifier()),\n",
       "                               ('NNC', MLPClassifier())],\n",
       "                   final_estimator=SVC())"
      ]
     },
     "execution_count": 27,
     "metadata": {},
     "output_type": "execute_result"
    }
   ],
   "source": [
    "StackingClassifier(X_train, X_test, y_train, y_test).model()"
   ]
  },
  {
   "cell_type": "code",
   "execution_count": 28,
   "metadata": {},
   "outputs": [],
   "source": [
    "class OneVsOneClassifier:\n",
    "    \n",
    "    def __init__(self, X_train, X_test, y_train, y_test):\n",
    "        self.X_train = X_train\n",
    "        self.X_test = X_test\n",
    "        self.y_train = y_train\n",
    "        self.y_test = y_test\n",
    "    \n",
    "    def model(self):\n",
    "    \n",
    "        from sklearn.multiclass import OneVsOneClassifier\n",
    "        from sklearn.neural_network import MLPClassifier\n",
    "        from sklearn.metrics import accuracy_score\n",
    "        from sklearn.metrics import classification_report\n",
    "        from sklearn.metrics import confusion_matrix\n",
    "        \n",
    "        self.clf = OneVsOneClassifier(MLPClassifier(hidden_layer_sizes = [100]*5))\n",
    "        self.clf.fit(self.X_train, self.y_train)\n",
    "        dnns_predictions_labels = self.clf.predict(self.X_test)\n",
    "\n",
    "        # Evaluate accuracy\n",
    "        print(confusion_matrix(self.y_test, dnns_predictions_labels))\n",
    "        print(classification_report(self.y_test, dnns_predictions_labels))\n",
    "        \n",
    "        return self.clf"
   ]
  },
  {
   "cell_type": "code",
   "execution_count": 29,
   "metadata": {},
   "outputs": [
    {
     "name": "stdout",
     "output_type": "stream",
     "text": [
      "[[   0    0    0    0   26]\n",
      " [   0    0    0    0   21]\n",
      " [   0    0    0    0   25]\n",
      " [   0    0    0    0   12]\n",
      " [  24   10   17    3 6168]]\n",
      "              precision    recall  f1-score   support\n",
      "\n",
      "           0       0.00      0.00      0.00        26\n",
      "           1       0.00      0.00      0.00        21\n",
      "           2       0.00      0.00      0.00        25\n",
      "           3       0.00      0.00      0.00        12\n",
      "           5       0.99      0.99      0.99      6222\n",
      "\n",
      "    accuracy                           0.98      6306\n",
      "   macro avg       0.20      0.20      0.20      6306\n",
      "weighted avg       0.97      0.98      0.98      6306\n",
      "\n"
     ]
    },
    {
     "data": {
      "text/plain": [
       "OneVsOneClassifier(estimator=MLPClassifier(hidden_layer_sizes=[100, 100, 100,\n",
       "                                                               100, 100]))"
      ]
     },
     "execution_count": 29,
     "metadata": {},
     "output_type": "execute_result"
    }
   ],
   "source": [
    "OneVsOneClassifier(X_train, X_test, y_train, y_test).model()"
   ]
  },
  {
   "cell_type": "code",
   "execution_count": 30,
   "metadata": {},
   "outputs": [],
   "source": [
    "class OneVsRestClassifier:\n",
    "    \n",
    "    def __init__(self, X_train, X_test, y_train, y_test):\n",
    "        self.X_train = X_train\n",
    "        self.X_test = X_test\n",
    "        self.y_train = y_train\n",
    "        self.y_test = y_test\n",
    "    \n",
    "    def model(self):\n",
    "        \n",
    "        from sklearn.multiclass import OneVsRestClassifier\n",
    "        from sklearn.neural_network import MLPClassifier\n",
    "        from sklearn.metrics import accuracy_score\n",
    "        from sklearn.metrics import classification_report\n",
    "        from sklearn.metrics import confusion_matrix\n",
    "        \n",
    "        self.clf = OneVsRestClassifier(MLPClassifier(hidden_layer_sizes = [100]*5))\n",
    "        self.clf.fit(self.X_train, self.y_train)\n",
    "        dnns_predictions_labels = self.clf.predict(self.X_test)\n",
    "\n",
    "        # Evaluate accuracy\n",
    "        print(confusion_matrix(self.y_test, dnns_predictions_labels))\n",
    "        print(classification_report(self.y_test, dnns_predictions_labels))\n",
    "        \n",
    "        return self.clf"
   ]
  },
  {
   "cell_type": "code",
   "execution_count": 31,
   "metadata": {},
   "outputs": [
    {
     "name": "stdout",
     "output_type": "stream",
     "text": [
      "[[   0    0    0    0   26]\n",
      " [   0    0    0    0   21]\n",
      " [   0    0    0    0   25]\n",
      " [   0    0    0    0   12]\n",
      " [  12    4   11    1 6194]]\n",
      "              precision    recall  f1-score   support\n",
      "\n",
      "           0       0.00      0.00      0.00        26\n",
      "           1       0.00      0.00      0.00        21\n",
      "           2       0.00      0.00      0.00        25\n",
      "           3       0.00      0.00      0.00        12\n",
      "           5       0.99      1.00      0.99      6222\n",
      "\n",
      "    accuracy                           0.98      6306\n",
      "   macro avg       0.20      0.20      0.20      6306\n",
      "weighted avg       0.97      0.98      0.98      6306\n",
      "\n"
     ]
    },
    {
     "data": {
      "text/plain": [
       "OneVsRestClassifier(estimator=MLPClassifier(hidden_layer_sizes=[100, 100, 100,\n",
       "                                                                100, 100]))"
      ]
     },
     "execution_count": 31,
     "metadata": {},
     "output_type": "execute_result"
    }
   ],
   "source": [
    "OneVsRestClassifier(X_train, X_test, y_train, y_test).model()"
   ]
  },
  {
   "cell_type": "code",
   "execution_count": 32,
   "metadata": {},
   "outputs": [
    {
     "name": "stdout",
     "output_type": "stream",
     "text": [
      "[[   0    0    0    0   26]\n",
      " [   0    0    0    0   21]\n",
      " [   0    0    0    0   25]\n",
      " [   0    0    0    0   12]\n",
      " [   0    0    0    0 6222]]\n",
      "              precision    recall  f1-score   support\n",
      "\n",
      "           0       0.00      0.00      0.00        26\n",
      "           1       0.00      0.00      0.00        21\n",
      "           2       0.00      0.00      0.00        25\n",
      "           3       0.00      0.00      0.00        12\n",
      "           5       0.99      1.00      0.99      6222\n",
      "\n",
      "    accuracy                           0.99      6306\n",
      "   macro avg       0.20      0.20      0.20      6306\n",
      "weighted avg       0.97      0.99      0.98      6306\n",
      "\n"
     ]
    }
   ],
   "source": [
    "final_model = StackingClassifier(X_train, X_test, y_train, y_test).model()"
   ]
  },
  {
   "cell_type": "code",
   "execution_count": 33,
   "metadata": {},
   "outputs": [],
   "source": [
    "new = labelled_df.drop(['Gender'], axis=1)\n",
    "newColumns = list(new.columns)"
   ]
  },
  {
   "cell_type": "code",
   "execution_count": 34,
   "metadata": {},
   "outputs": [
    {
     "data": {
      "text/plain": [
       "['models/Final-Model-Columns.sav']"
      ]
     },
     "execution_count": 34,
     "metadata": {},
     "output_type": "execute_result"
    }
   ],
   "source": [
    "model_columns = newColumns\n",
    "\n",
    "import joblib\n",
    "\n",
    "Final_Model = 'models/Final-Model.sav'\n",
    "joblib.dump(final_model, Final_Model)\n",
    "\n",
    "Model_columns = 'models/Final-Model-Columns.sav'\n",
    "joblib.dump(model_columns, Model_columns)"
   ]
  },
  {
   "cell_type": "code",
   "execution_count": null,
   "metadata": {},
   "outputs": [],
   "source": []
  }
 ],
 "metadata": {
  "kernelspec": {
   "display_name": "Python 3 (ipykernel)",
   "language": "python",
   "name": "python3"
  },
  "language_info": {
   "codemirror_mode": {
    "name": "ipython",
    "version": 3
   },
   "file_extension": ".py",
   "mimetype": "text/x-python",
   "name": "python",
   "nbconvert_exporter": "python",
   "pygments_lexer": "ipython3",
   "version": "3.7.3"
  }
 },
 "nbformat": 4,
 "nbformat_minor": 2
}
